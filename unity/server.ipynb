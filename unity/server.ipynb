{
 "cells": [
  {
   "cell_type": "markdown",
   "metadata": {},
   "source": [
    "- 0番目から始まる8文字読み込んで、nを得る\n",
    "- 8番目から始まるn文字を読んで、XYZRPYを得る\n",
    "- 8+n番目から始まる残り全部を読んで、imgを得る"
   ]
  },
  {
   "cell_type": "code",
   "execution_count": 2,
   "metadata": {},
   "outputs": [
    {
     "name": "stdout",
     "output_type": "stream",
     "text": [
      "94 94 94\n"
     ]
    }
   ],
   "source": [
    "import numpy as np\n",
    "import glob\n",
    "import cv2\n",
    "\n",
    "XYZ = np.load(\"/root/share/temp/aruco/data/XYZ.npy\")\n",
    "RPY = np.load(\"/root/share/temp/aruco/data/RPY.npy\")\n",
    "\n",
    "frames = []\n",
    "# for file in sorted(glob.glob(\"/root/share/temp/aruco/data/orig/shisa*png\")):\n",
    "for file in sorted(glob.glob(\"/root/share/temp/aruco/data/crop/shisa*png\")):\n",
    "\n",
    "    frame = cv2.imread(file, cv2.IMREAD_UNCHANGED)\n",
    "    # frame = cv2.cvtColor(frame, cv2.COLOR_BGRA2RGBA)\n",
    "    frames.append(frame)\n",
    "\n",
    "print(len(XYZ), len(RPY), len(frames))"
   ]
  },
  {
   "cell_type": "code",
   "execution_count": null,
   "metadata": {},
   "outputs": [
    {
     "name": "stdout",
     "output_type": "stream",
     "text": [
      "ac ac "
     ]
    }
   ],
   "source": [
    "import socket\n",
    "\n",
    "t = 0\n",
    "with socket.socket(socket.AF_INET, socket.SOCK_STREAM) as s:\n",
    "    s.bind(('0.0.0.0', 5900))\n",
    "    s.listen(1)\n",
    "    while True:\n",
    "        conn, addr = s.accept()\n",
    "        print(\"ac\", end=\" \")\n",
    "        with conn:\n",
    "            while True:\n",
    "                data = conn.recv(1024)\n",
    "                if not data:\n",
    "                    break\n",
    "                # print(data, end=\" \")  # byte\n",
    "                img_str = cv2.imencode(\".png\", frames[t])[1].tostring()\n",
    "\n",
    "                msg = (\"{} \" * 6)[:-1].format(*XYZ[t], *RPY[t]).encode()  # [:-1]\n",
    "                msglen = len(msg)\n",
    "                msg = \"{:04}    \".format(msglen).encode() + msg\n",
    "                conn.sendall(msg + img_str)\n",
    "\n",
    "                t += 1\n",
    "                t %= len(XYZ)"
   ]
  },
  {
   "cell_type": "code",
   "execution_count": 3,
   "metadata": {},
   "outputs": [
    {
     "data": {
      "text/plain": [
       "3186"
      ]
     },
     "execution_count": 3,
     "metadata": {},
     "output_type": "execute_result"
    }
   ],
   "source": [
    "len(img_str)"
   ]
  },
  {
   "cell_type": "code",
   "execution_count": 10,
   "metadata": {},
   "outputs": [
    {
     "name": "stderr",
     "output_type": "stream",
     "text": [
      "                                                             "
     ]
    },
    {
     "name": "stdout",
     "output_type": "stream",
     "text": [
      "Moviepy - Building video send_orig.mp4.\n",
      "Moviepy - Writing video send_orig.mp4\n",
      "\n"
     ]
    },
    {
     "name": "stderr",
     "output_type": "stream",
     "text": [
      "\r"
     ]
    },
    {
     "name": "stdout",
     "output_type": "stream",
     "text": [
      "Moviepy - Done !\n",
      "Moviepy - video ready send_orig.mp4\n"
     ]
    }
   ],
   "source": [
    "import moviepy.editor as mpy\n",
    "frames2 = [cv2.cvtColor(frame, cv2.COLOR_RGB2BGR) for frame in frames]\n",
    "clip = mpy.ImageSequenceClip(frames2, fps=15)\n",
    "clip.write_videofile(\"send_orig.mp4\", fps=15)"
   ]
  }
 ],
 "metadata": {
  "kernelspec": {
   "display_name": "Python 3",
   "language": "python",
   "name": "python3"
  },
  "language_info": {
   "codemirror_mode": {
    "name": "ipython",
    "version": 3
   },
   "file_extension": ".py",
   "mimetype": "text/x-python",
   "name": "python",
   "nbconvert_exporter": "python",
   "pygments_lexer": "ipython3",
   "version": "3.7.4"
  }
 },
 "nbformat": 4,
 "nbformat_minor": 4
}
